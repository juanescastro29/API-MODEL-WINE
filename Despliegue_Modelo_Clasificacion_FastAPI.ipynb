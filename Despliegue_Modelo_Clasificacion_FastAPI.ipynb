{
  "cells": [
    {
      "cell_type": "markdown",
      "metadata": {},
      "source": [
        "# Despliegue de un Modelo de Clasificación como Servicio Web con FastAPI\n",
        "\n",
        "Este notebook documenta el proceso completo para desplegar un modelo de clasificación de vinos como un servicio web utilizando FastAPI. Aprenderemos cómo entrenar un modelo de machine learning y exponerlo a través de una API REST.\n",
        "\n",
        "## Contenido\n",
        "\n",
        "1. [Preparación del Entorno](#1-preparación-del-entorno)\n",
        "2. [Carga y Entrenamiento del Modelo](#2-carga-y-entrenamiento-del-modelo)\n",
        "3. [Implementación de la API con FastAPI](#3-implementación-de-la-api-con-fastapi)\n",
        "4. [Configuración del Sistema de Logging](#4-configuración-del-sistema-de-logging)\n",
        "5. [Ejecución del Servicio](#5-ejecución-del-servicio)\n",
        "6. [Pruebas y Ejemplos de Uso](#6-pruebas-y-ejemplos-de-uso)\n",
        "7. [Documentación Automática](#7-documentación-automática)\n",
        "8. [Conclusiones](#8-conclusiones)"
      ]
    },
    {
      "cell_type": "markdown",
      "metadata": {},
      "source": [
        "## 1. Preparación del Entorno\n",
        "\n",
        "Primero, necesitamos instalar las dependencias necesarias para nuestro proyecto. Estas incluyen FastAPI para crear la API, Uvicorn como servidor ASGI, scikit-learn para el modelo de machine learning, y otras bibliotecas de soporte."
      ]
    },
    {
      "cell_type": "code",
      "execution_count": null,
      "metadata": {},
      "outputs": [],
      "source": [
        "# Instalación de dependencias\n",
        "!pip install fastapi==0.68.1 uvicorn==0.15.0 scikit-learn==0.24.2 pandas==1.3.3 numpy==1.21.2 python-multipart==0.0.5 loguru==0.5.3"
      ]
    },
    {
      "cell_type": "markdown",
      "metadata": {},
      "source": [
        "Creamos un archivo `requirements.txt` para documentar las dependencias del proyecto:"
      ]
    },
    {
      "cell_type": "code",
      "execution_count": null,
      "metadata": {},
      "outputs": [],
      "source": [
        "%%writefile requirements.txt\n",
        "fastapi==0.68.1\n",
        "uvicorn==0.15.0\n",
        "scikit-learn==0.24.2\n",
        "pandas==1.3.3\n",
        "numpy==1.21.2\n",
        "python-multipart==0.0.5\n",
        "loguru==0.5.3"
      ]
    },
    {
      "cell_type": "markdown",
      "metadata": {},
      "source": [
        "## 2. Carga y Entrenamiento del Modelo\n",
        "\n",
        "Para este ejemplo, utilizaremos el dataset de vinos de scikit-learn. Cargaremos los datos, los dividiremos en conjuntos de entrenamiento y prueba, y entrenaremos un modelo de Random Forest para la clasificación."
      ]
    },
    {
      "cell_type": "code",
      "execution_count": null,
      "metadata": {},
      "outputs": [],
      "source": [
        "import numpy as np\n",
        "import pandas as pd\n",
        "from sklearn.datasets import load_wine\n",
        "from sklearn.model_selection import train_test_split\n",
        "from sklearn.ensemble import RandomForestClassifier\n",
        "from sklearn.metrics import classification_report, accuracy_score\n",
        "\n",
        "# Cargar el dataset de vinos\n",
        "wine = load_wine()\n",
        "X, y = wine.data, wine.target\n",
        "\n",
        "# Explorar las características del dataset\n",
        "print(f\"Características del dataset: {wine.feature_names}\")\n",
        "print(f\"Clases: {wine.target_names}\")\n",
        "print(f\"Dimensiones de X: {X.shape}\")\n",
        "\n",
        "# Crear un DataFrame para visualizar mejor los datos\n",
        "df = pd.DataFrame(X, columns=wine.feature_names)\n",
        "df['target'] = y\n",
        "df.head()"
      ]
    },
    {
      "cell_type": "code",
      "execution_count": null,
      "metadata": {},
      "outputs": [],
      "source": [
        "# Dividir los datos en conjuntos de entrenamiento y prueba\n",
        "X_train, X_test, y_train, y_test = train_test_split(X, y, test_size=0.2, random_state=42)\n",
        "\n",
        "# Entrenar un modelo de Random Forest\n",
        "model = RandomForestClassifier(n_estimators=100, random_state=42)\n",
        "model.fit(X_train, y_train)\n",
        "\n",
        "# Evaluar el modelo\n",
        "y_pred = model.predict(X_test)\n",
        "print(f\"Precisión del modelo: {accuracy_score(y_test, y_pred):.4f}\")\n",
        "print(\"Informe de clasificación:\n\")\n",
        "print(classification_report(y_test, y_pred, target_names=wine.target_names))"
      ]
    },
    {
      "cell_type": "markdown",
      "metadata": {},
      "source": [
        "## 3. Implementación de la API con FastAPI\n",
        "\n",
        "Ahora que tenemos un modelo entrenado, vamos a implementar una API REST utilizando FastAPI para exponer nuestro modelo como un servicio web. Crearemos un archivo `main.py` con la implementación de la API."
      ]
    },
    {
      "cell_type": "code",
      "execution_count": null,
      "metadata": {},
      "outputs": [],
      "source": [
        "%%writefile main.py\n",
        "from fastapi import FastAPI, HTTPException\n",
        "from pydantic import BaseModel\n",
        "from sklearn.datasets import load_wine\n",
        "from sklearn.model_selection import train_test_split\n",
        "from sklearn.ensemble import RandomForestClassifier\n",
        "from loguru import logger\n",
        "import numpy as np\n",
        "\n",
        "# Configuración del logger\n",
        "logger.add(\"api.log\", rotation=\"500 MB\")\n",
        "\n",
        "app = FastAPI(\n",
        "    title=\"API de Clasificación de Vinos\",\n",
        "    description=\"API para predecir la clase de vino usando el dataset de sklearn\",\n",
        "    version=\"1.0.0\"\n",
        ")\n",
        "\n",
        "# Cargar y preparar los datos\n",
        "X, y = load_wine(return_X_y=True)\n",
        "X_train, X_test, y_train, y_test = train_test_split(X, y, test_size=0.2, random_state=42)\n",
        "\n",
        "# Entrenar el modelo\n",
        "model = RandomForestClassifier(n_estimators=100, random_state=42)\n",
        "model.fit(X_train, y_train)\n",
        "\n",
        "class WineFeatures(BaseModel):\n",
        "    alcohol: float\n",
        "    malic_acid: float\n",
        "    ash: float\n",
        "    alcalinity_of_ash: float\n",
        "    magnesium: float\n",
        "    total_phenols: float\n",
        "    flavanoids: float\n",
        "    nonflavanoid_phenols: float\n",
        "    proanthocyanins: float\n",
        "    color_intensity: float\n",
        "    hue: float\n",
        "    od280_od315_of_diluted_wines: float\n",
        "    proline: float\n",
        "\n",
        "@app.post(\"/predict\")\n",
        "async def predict_wine(features: WineFeatures):\n",
        "    try:\n",
        "        logger.info(f\"Recibiendo predicción para características: {features}\")\n",
        "        \n",
        "        # Convertir características a array\n",
        "        X = np.array([\n",
        "            features.alcohol, features.malic_acid, features.ash, features.alcalinity_of_ash,\n",
        "            features.magnesium, features.total_phenols, features.flavanoids, features.nonflavanoid_phenols,\n",
        "            features.proanthocyanins, features.color_intensity, features.hue, \n",
        "            features.od280_od315_of_diluted_wines, features.proline\n",
        "        ]).reshape(1, -1)\n",
        "        \n",
        "        # Realizar predicción\n",
        "        prediction = model.predict(X)[0]\n",
        "        probabilities = model.predict_proba(X)[0]\n",
        "        \n",
        "        # Mapear clases a tipos de vino\n",
        "        wine_types = {0: \"Clase 0\", 1: \"Clase 1\", 2: \"Clase 2\"}\n",
        "        \n",
        "        result = {\n",
        "            \"prediction\": int(prediction),\n",
        "            \"probabilities\": {f\"clase_{i}\": float(prob) for i, prob in enumerate(probabilities)},\n",
        "            \"message\": f\"Vino clasificado como: {wine_types[prediction]}\"\n",
        "        }\n",
        "        \n",
        "        logger.info(f\"Predicción exitosa: {result}\")\n",
        "        return result\n",
        "        \n",
        "    except Exception as e:\n",
        "        logger.error(f\"Error durante la predicción: {str(e)}\")\n",
        "        raise HTTPException(status_code=500, detail=str(e))\n",
        "\n",
        "@app.get(\"/health\")\n",
        "async def health_check():\n",
        "    return {\"status\": \"ok\"}"
      ]
    },
    {
      "cell_type": "markdown",
      "metadata": {},
      "source": [
        "### Explicación del Código\n",
        "\n",
        "En el código anterior:  \n",
        "\n",
        "1. **Configuración de FastAPI**: Creamos una instancia de FastAPI con metadatos como título, descripción y versión.\n",
        "\n",
        "2. **Carga y Entrenamiento del Modelo**: Cargamos el dataset de vinos, dividimos los datos y entrenamos un modelo de Random Forest.\n",
        "\n",
        "3. **Definición del Modelo de Datos**: Utilizamos Pydantic para definir la estructura de datos esperada en las solicitudes a la API.\n",
        "\n",
        "4. **Endpoint de Predicción**: Implementamos un endpoint POST `/predict` que recibe las características del vino y devuelve la predicción del modelo.\n",
        "\n",
        "5. **Endpoint de Salud**: Implementamos un endpoint GET `/health` para verificar el estado de la API."
      ]
    },
    {
      "cell_type": "markdown",
      "metadata": {},
      "source": [
        "## 4. Configuración del Sistema de Logging\n",
        "\n",
        "Hemos configurado un sistema de logging utilizando la biblioteca Loguru. Esto nos permite registrar información importante sobre las solicitudes y respuestas de la API, así como cualquier error que pueda ocurrir durante la ejecución.\n",
        "\n",
        "```python\n",
        "# Configuración del logger\n",
        "logger.add(\"api.log\", rotation=\"500 MB\")\n",
        "```\n",
        "\n",
        "Los logs se guardan en el archivo `api.log` y se rotan cuando alcanzan un tamaño de 500 MB. Esto es útil para monitorear el comportamiento de la API en producción y para depurar problemas."
      ]
    },
    {
      "cell_type": "markdown",
      "metadata": {},
      "source": [
        "## 5. Ejecución del Servicio\n",
        "\n",
        "Para ejecutar el servicio, utilizamos Uvicorn, un servidor ASGI de alto rendimiento. En un entorno de producción, ejecutaríamos el siguiente comando:"
      ]
    },
    {
      "cell_type": "code",
      "execution_count": null,
      "metadata": {},
      "outputs": [],
      "source": [
        "# En un entorno real, ejecutaríamos este comando en la terminal\n",
        "!python -m uvicorn main:app --reload"
      ]
    },
    {
      "cell_type": "markdown",
      "metadata": {},
      "source": [
        "Este comando inicia el servidor Uvicorn con la opción `--reload`, que reinicia automáticamente el servidor cuando se detectan cambios en el código. Esto es útil durante el desarrollo, pero en producción se recomienda omitir esta opción.\n",
        "\n",
        "Una vez que el servidor está en ejecución, la API estará disponible en `http://localhost:8000`."
      ]
    },
    {
      "cell_type": "markdown",
      "metadata": {},
      "source": [
        "## 6. Pruebas y Ejemplos de Uso\n",
        "\n",
        "Ahora que tenemos nuestra API en funcionamiento, vamos a realizar algunas pruebas para verificar que todo funciona correctamente. Utilizaremos la biblioteca `requests` para enviar solicitudes a la API."
      ]
    },
    {
      "cell_type": "code",
      "execution_count": null,
      "metadata": {},
      "outputs": [],
      "source": [
        "import requests\n",
        "import json\n",
        "import matplotlib.pyplot as plt\n",
        "\n",
        "# URL de la API (asumiendo que está ejecutándose localmente)\n",
        "API_URL = \"http://localhost:8000\"\n",
        "\n",
        "# Verificar el estado de la API\n",
        "response = requests.get(f\"{API_URL}/health\")\n",
        "print(f\"Estado de la API: {response.json()}\")\n",
        "\n",
        "# Datos de ejemplo para la predicción (tomados del conjunto de prueba)\n",
        "sample_index = 0  # Índice de la muestra que queremos usar\n",
        "sample_features = X_test[sample_index]\n",
        "\n",
        "# Crear el payload para la solicitud\n",
        "payload = {\n",
        "    \"alcohol\": float(sample_features[0]),\n",
        "    \"malic_acid\": float(sample_features[1]),\n",
        "    \"ash\": float(sample_features[2]),\n",
        "    \"alcalinity_of_ash\": float(sample_features[3]),\n",
        "    \"magnesium\": float(sample_features[4]),\n",
        "    \"total_phenols\": float(sample_features[5]),\n",
        "    \"flavanoids\": float(sample_features[6]),\n",
        "    \"nonflavanoid_phenols\": float(sample_features[7]),\n",
        "    \"proanthocyanins\": float(sample_features[8]),\n",
        "    \"color_intensity\": float(sample_features[9]),\n",
        "    \"hue\": float(sample_features[10]),\n",
        "    \"od280_od315_of_diluted_wines\": float(sample_features[11]),\n",
        "    \"proline\": float(sample_features[12])\n",
        "}\n",
        "\n",
        "print(\"Payload de la solicitud:\")\n",
        "print(json.dumps(payload, indent=4))\n",
        "\n",
        "# Realizar la solicitud de predicción\n",
        "response = requests.post(f\"{API_URL}/predict\", json=payload)\n",
        "\n",
        "# Verificar la respuesta\n",
        "if response.status_code == 200:\n",
        "    result = response.json()\n",
        "    print(\"\nRespuesta de la API:\")\n",
        "    print(json.dumps(result, indent=4))\n",
        "    \n",
        "    # Visualizar las probabilidades\n",
        "    probabilities = result[\"probabilities\"]\n",
        "    classes = list(probabilities.keys())\n",
        "    values = list(probabilities.values())\n",
        "    \n",
        "    plt.figure(figsize=(10, 6))\n",
        "    plt.bar(classes, values, color='skyblue')\n",
        "    plt.xlabel('Clase')\n",
        "    plt.ylabel('Probabilidad')\n",
        "    plt.title('Probabilidades de Predicción')\n",
        "    plt.ylim(0, 1)\n",
        "    for i, v in enumerate(values):\n",
        "        plt.text(i, v + 0.02, f'{v:.2f}', ha='center')\n",
        "    plt.show()\n",
        "    \n",
        "    # Comparar con la etiqueta real\n",
        "    true_label = y_test[sample_index]\n",
        "    predicted_label = result[\"prediction\"]\n",
        "    print(f\"\nEtiqueta real: {true_label} ({wine.target_names[true_label]})\n",
        "          f\"Etiqueta predicha: {predicted_label} ({wine.target_names[predicted_label]})\")\n",
        "else:\n",
        "    print(f\"Error: {response.status_code}\")\n",
        "    print(response.text)"
      ]
    },
    {
      "cell_type": "markdown",
      "metadata": {},
      "source": [
        "### Ejemplo de Payload para la API\n",
        "\n",
        "A continuación se muestra un ejemplo de payload que podemos enviar a la API para obtener una predicción:"
      ]
    },
    {
      "cell_type": "code",
      "execution_count": null,
      "metadata": {},
      "outputs": [],
      "source": [
        "example_payload = {\n",
        "    \"alcohol\": 13.0,\n",
        "    \"malic_acid\": 1.5,\n",
        "    \"ash\": 2.3,\n",
        "    \"alcalinity_of_ash\": 15.0,\n",
        "    \"magnesium\": 100.0,\n",
        "    \"total_phenols\": 2.5,\n",
        "    \"flavanoids\": 3.0,\n",
        "    \"nonflavanoid_phenols\": 0.3,\n",
        "    \"proanthocyanins\": 1.5,\n",
        "    \"color_intensity\": 5.0,\n",
        "    \"hue\": 1.0,\n",
        "    \"od280_od315_of_diluted_wines\": 3.0,\n",
        "    \"proline\": 1000.0\n",
        "}\n",
        "\n",
        "print(json.dumps(example_payload, indent=4))"
      ]
    },
    {
      "cell_type": "markdown",
      "metadata": {},
      "source": [
        "## 7. Documentación Automática\n",
        "\n",
        "Una de las ventajas de FastAPI es que genera automáticamente documentación interactiva para nuestra API. Esta documentación está disponible en dos formatos:\n",
        "\n",
        "1. **Swagger UI**: Disponible en `http://localhost:8000/docs`\n",
        "2. **ReDoc**: Disponible en `http://localhost:8000/redoc`\n",
        "\n",
        "A continuación se muestra una captura de pantalla de la documentación generada por Swagger UI:\n",
        "\n",
        "![Swagger UI](https://fastapi.tiangolo.com/img/index/index-01-swagger-ui-simple.png)\n",
        "\n",
        "Esta documentación interactiva permite a los usuarios de la API entender cómo utilizarla, qué parámetros espera cada endpoint y qué respuestas devuelve. También permite probar la API directamente desde el navegador."
      ]
    },
    {
      "cell_type": "markdown",
      "metadata": {},
      "source": [
        "## 8. Conclusiones\n",
        "\n",
        "En este notebook, hemos aprendido cómo desplegar un modelo de clasificación como un servicio web utilizando FastAPI. Hemos cubierto los siguientes aspectos:\n",
        "\n",
        "1. **Preparación del Entorno**: Instalación de dependencias y configuración del proyecto.\n",
        "\n",
        "2. **Carga y Entrenamiento del Modelo**: Utilización del dataset de vinos de scikit-learn para entrenar un modelo de Random Forest.\n",
        "\n",
        "3. **Implementación de la API**: Creación de endpoints para predicción y verificación de salud.\n",
        "\n",
        "4. **Configuración del Sistema de Logging**: Utilización de Loguru para registrar información importante.\n",
        "\n",
        "5. **Ejecución del Servicio**: Uso de Uvicorn como servidor ASGI.\n",
        "\n",
        "6. **Pruebas y Ejemplos de Uso**: Envío de solicitudes a la API y visualización de resultados.\n",
        "\n",
        "7. **Documentación Automática**: Aprovechamiento de la documentación generada por FastAPI.\n",
        "\n",
        "Este enfoque nos permite exponer modelos de machine learning como servicios web, lo que facilita su integración con otras aplicaciones y sistemas. Además, FastAPI nos proporciona herramientas para garantizar la calidad y la seguridad de nuestra API, como validación de datos, documentación automática y manejo de errores."
      ]
    },
    {
      "cell_type": "markdown",
      "metadata": {},
      "source": [
        "### Recursos Adicionales\n",
        "\n",
        "- [Documentación oficial de FastAPI](https://fastapi.tiangolo.com/)\n",
        "- [Documentación de scikit-learn](https://scikit-learn.org/stable/documentation.html)\n",
        "- [Documentación de Uvicorn](https://www.uvicorn.org/)\n",
        "- [Documentación de Loguru](https://loguru.readthedocs.io/en/stable/index.html)"
      ]
    }
  ],
  "metadata": {
    "kernelspec": {
      "display_name": "Python 3",
      "language": "python",
      "name": "python3"
    },
    "language_info": {
      "codemirror_mode": {
        "name": "ipython",
        "version": 3
      },
      "file_extension": ".py",
      "mimetype": "text/x-python",
      "name": "python",
      "nbconvert_exporter": "python",
      "pygments_lexer": "ipython3",
      "version": "3.8.10"
    },
    "colab": {
      "provenance": [],
      "toc_visible": true
    }
  },
  "nbformat": 4,
  "nbformat_minor": 4
}